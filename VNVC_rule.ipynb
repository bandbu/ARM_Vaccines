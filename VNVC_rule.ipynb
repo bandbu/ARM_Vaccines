{
 "cells": [
  {
   "cell_type": "markdown",
   "metadata": {},
   "source": [
    "# HỆ THỐNG A.I HỖ TRỢ CHỈ ĐỊNH VÀ PHÁT HIỆN CHỈ ĐỊNH PHÁT HIỆN BẤT THƯỜNG CHO VNVC"
   ]
  },
  {
   "cell_type": "markdown",
   "metadata": {},
   "source": [
    "## 1. Ý tưởng:"
   ]
  },
  {
   "cell_type": "markdown",
   "metadata": {},
   "source": [
    "### 1.1.Mục tiêu"
   ]
  },
  {
   "cell_type": "markdown",
   "metadata": {},
   "source": [
    "Dựa trên dữ liệu chỉ định tiêm đã có của VNVC, sau đó sử dụng máy học để tạo ra một hệ thống hỗ trợ nhận chỉ định vaccine của cho bác sĩ"
   ]
  },
  {
   "cell_type": "markdown",
   "metadata": {},
   "source": [
    "## 2. THỰC HIỆN"
   ]
  },
  {
   "cell_type": "markdown",
   "metadata": {},
   "source": [
    "### 2.1. THU THẬP DATA"
   ]
  },
  {
   "cell_type": "markdown",
   "metadata": {},
   "source": [
    "Để tránh các dữ liệu rác và kém chất lượng, chỉ thu thập dữ liệu thực tiêm của khách hàng, từ 4 trung tâm lớn nhất đại diện cho các miền trên cả nước của VNVC (HVT, Đà Nẵng, TC, công viên thanh lễ Bình Dương). "
   ]
  },
  {
   "cell_type": "markdown",
   "metadata": {},
   "source": [
    "Từ dữ liệu thu thập, cho thấy bác sĩ đang làm việc với 61 loại vaccine. Nếu cho máy học một cách truyền thống sẽ phải đính kèm với độ tuổi và giới tính tạo nên 63 đầu mục dữ liệu. Bản chất của máy học là xác suất thống kê, nên máy sẽ tạo ra hơn 800 triệu trường hợp giả định từ tập trên để học, để tránh lãng phí tài nguyên máy khi huấn luyện ta có thể giới hạn luật kết hợp dựa trên các hiểu biết về nghiệp vụ như sau: <br> 1. Tương tác vaccine hiện tại chỉ có trường hợp đi theo cặp, nên chiều dài của một trường hợp nên giới hạn tối đa và tối thiểu là 2 vaccines. <br> 2. Một trường hợp huấn luyện bắt buộc phải đi kèm khoảng tuổi và giới tính của khách hàng.<br> 3. Ngày tuổi của khách hàng tại thời điểm tiêm là một đầu mục rất hữu ích cho kết quả đầu ra, quyết định được tiêm vaccine nào, tuy nhiên việc tính chính xác đến hàng ngày sẽ gây phân mảnh dữ liệu tạo nên các tập con rất nhỏ, ảnh hưởng đến mức độ tin cậy của thuật toán, đồng thời cũng tăng số lượng các trường hợp giả định, cho nên để đơn giản, bắt buộc phải chia tuổi theo các khoảng theo nghiệp vụ: Trẻ sơ sinh, trẻ dưới 6 tuổi, trẻ em dưới 18 tuổi, người lớn <br>"
   ]
  },
  {
   "cell_type": "code",
   "execution_count": 1,
   "metadata": {},
   "outputs": [],
   "source": [
    "#pip install pandas\n",
    "#pip install seaborn"
   ]
  },
  {
   "cell_type": "code",
   "execution_count": 1,
   "metadata": {},
   "outputs": [],
   "source": [
    "import pandas as pd\n",
    "import numpy as np\n",
    "import matplotlib as mpl\n",
    "import seaborn as sns\n",
    "import matplotlib.pyplot as plt\n"
   ]
  },
  {
   "cell_type": "markdown",
   "metadata": {},
   "source": [
    "Đọc file Data csv"
   ]
  },
  {
   "cell_type": "code",
   "execution_count": 20,
   "metadata": {},
   "outputs": [],
   "source": [
    "data=pd.read_csv(\"c:\\Khoa\\Git\\Association-Rule-Mining\\ItemSupport.csv\")"
   ]
  },
  {
   "cell_type": "code",
   "execution_count": 37,
   "metadata": {},
   "outputs": [
    {
     "data": {
      "text/html": [
       "<div>\n",
       "<style scoped>\n",
       "    .dataframe tbody tr th:only-of-type {\n",
       "        vertical-align: middle;\n",
       "    }\n",
       "\n",
       "    .dataframe tbody tr th {\n",
       "        vertical-align: top;\n",
       "    }\n",
       "\n",
       "    .dataframe thead th {\n",
       "        text-align: right;\n",
       "    }\n",
       "</style>\n",
       "<table border=\"1\" class=\"dataframe\">\n",
       "  <thead>\n",
       "    <tr style=\"text-align: right;\">\n",
       "      <th></th>\n",
       "      <th>Vaccine</th>\n",
       "      <th>Count</th>\n",
       "      <th>Cou</th>\n",
       "    </tr>\n",
       "  </thead>\n",
       "  <tbody>\n",
       "    <tr>\n",
       "      <th>0</th>\n",
       "      <td>0</td>\n",
       "      <td>0.601501</td>\n",
       "      <td>530307.015433</td>\n",
       "    </tr>\n",
       "    <tr>\n",
       "      <th>14</th>\n",
       "      <td>U6</td>\n",
       "      <td>0.496683</td>\n",
       "      <td>437895.996858</td>\n",
       "    </tr>\n",
       "    <tr>\n",
       "      <th>13</th>\n",
       "      <td>1</td>\n",
       "      <td>0.398499</td>\n",
       "      <td>351333.011016</td>\n",
       "    </tr>\n",
       "    <tr>\n",
       "      <th>1</th>\n",
       "      <td>U47</td>\n",
       "      <td>0.318322</td>\n",
       "      <td>280644.993709</td>\n",
       "    </tr>\n",
       "    <tr>\n",
       "      <th>8</th>\n",
       "      <td>1000012</td>\n",
       "      <td>0.196958</td>\n",
       "      <td>173646.007038</td>\n",
       "    </tr>\n",
       "    <tr>\n",
       "      <th>...</th>\n",
       "      <td>...</td>\n",
       "      <td>...</td>\n",
       "      <td>...</td>\n",
       "    </tr>\n",
       "    <tr>\n",
       "      <th>63</th>\n",
       "      <td>1000022</td>\n",
       "      <td>0.000007</td>\n",
       "      <td>6.000000</td>\n",
       "    </tr>\n",
       "    <tr>\n",
       "      <th>65</th>\n",
       "      <td>Mar</td>\n",
       "      <td>0.000007</td>\n",
       "      <td>6.000000</td>\n",
       "    </tr>\n",
       "    <tr>\n",
       "      <th>67</th>\n",
       "      <td>May</td>\n",
       "      <td>0.000006</td>\n",
       "      <td>5.000000</td>\n",
       "    </tr>\n",
       "    <tr>\n",
       "      <th>66</th>\n",
       "      <td>Apr</td>\n",
       "      <td>0.000001</td>\n",
       "      <td>1.000000</td>\n",
       "    </tr>\n",
       "    <tr>\n",
       "      <th>68</th>\n",
       "      <td>15</td>\n",
       "      <td>0.000001</td>\n",
       "      <td>1.000000</td>\n",
       "    </tr>\n",
       "  </tbody>\n",
       "</table>\n",
       "<p>69 rows × 3 columns</p>\n",
       "</div>"
      ],
      "text/plain": [
       "    Vaccine     Count            Cou\n",
       "0         0  0.601501  530307.015433\n",
       "14       U6  0.496683  437895.996858\n",
       "13        1  0.398499  351333.011016\n",
       "1       U47  0.318322  280644.993709\n",
       "8   1000012  0.196958  173646.007038\n",
       "..      ...       ...            ...\n",
       "63  1000022  0.000007       6.000000\n",
       "65      Mar  0.000007       6.000000\n",
       "67      May  0.000006       5.000000\n",
       "66      Apr  0.000001       1.000000\n",
       "68       15  0.000001       1.000000\n",
       "\n",
       "[69 rows x 3 columns]"
      ]
     },
     "execution_count": 37,
     "metadata": {},
     "output_type": "execute_result"
    }
   ],
   "source": [
    "data['Cou']=data['Count']*881640\n",
    "data = data.sort_values(by=\"Cou\", ascending=False)\n",
    "data.head(69)"
   ]
  },
  {
   "cell_type": "code",
   "execution_count": 38,
   "metadata": {},
   "outputs": [
    {
     "data": {
      "text/plain": [
       "<Axes: xlabel='Vaccine', ylabel='Cou'>"
      ]
     },
     "execution_count": 38,
     "metadata": {},
     "output_type": "execute_result"
    },
    {
     "data": {
      "image/png": "[encoded data removed]",
      "text/plain": [
       "<Figure size 640x480 with 1 Axes>"
      ]
     },
     "metadata": {},
     "output_type": "display_data"
    }
   ],
   "source": [
    "sns.scatterplot(x=data['Vaccine'],y=data['Cou'])"
   ]
  },
  {
   "cell_type": "markdown",
   "metadata": {},
   "source": [
    "Tần suất chênh lệch sử dụng của một vài loại vaccine quá lớn quá lớn gây nhiễu"
   ]
  },
  {
   "cell_type": "code",
   "execution_count": null,
   "metadata": {},
   "outputs": [],
   "source": []
  },
  {
   "cell_type": "code",
   "execution_count": null,
   "metadata": {},
   "outputs": [],
   "source": []
  },
  {
   "cell_type": "markdown",
   "metadata": {},
   "source": [
    "Đọc file Rules"
   ]
  },
  {
   "cell_type": "code",
   "execution_count": 3,
   "metadata": {},
   "outputs": [
    {
     "data": {
      "text/html": [
       "<div>\n",
       "<style scoped>\n",
       "    .dataframe tbody tr th:only-of-type {\n",
       "        vertical-align: middle;\n",
       "    }\n",
       "\n",
       "    .dataframe tbody tr th {\n",
       "        vertical-align: top;\n",
       "    }\n",
       "\n",
       "    .dataframe thead th {\n",
       "        text-align: right;\n",
       "    }\n",
       "</style>\n",
       "<table border=\"1\" class=\"dataframe\">\n",
       "  <thead>\n",
       "    <tr style=\"text-align: right;\">\n",
       "      <th></th>\n",
       "      <th>Antecedent</th>\n",
       "      <th>Consequent</th>\n",
       "      <th>Support</th>\n",
       "      <th>Confidence</th>\n",
       "      <th>Count</th>\n",
       "      <th>Cluster</th>\n",
       "    </tr>\n",
       "  </thead>\n",
       "  <tbody>\n",
       "    <tr>\n",
       "      <th>0</th>\n",
       "      <td>[0, U6, 1000014]</td>\n",
       "      <td>[40]</td>\n",
       "      <td>0.001342</td>\n",
       "      <td>0.012067</td>\n",
       "      <td>1183</td>\n",
       "      <td>0</td>\n",
       "    </tr>\n",
       "    <tr>\n",
       "      <th>1</th>\n",
       "      <td>[0, U6, 40]</td>\n",
       "      <td>[1000014]</td>\n",
       "      <td>0.001342</td>\n",
       "      <td>0.011451</td>\n",
       "      <td>1183</td>\n",
       "      <td>0</td>\n",
       "    </tr>\n",
       "    <tr>\n",
       "      <th>2</th>\n",
       "      <td>[0, U18, 1000014]</td>\n",
       "      <td>[40]</td>\n",
       "      <td>0.014193</td>\n",
       "      <td>0.127642</td>\n",
       "      <td>12513</td>\n",
       "      <td>0</td>\n",
       "    </tr>\n",
       "    <tr>\n",
       "      <th>3</th>\n",
       "      <td>[0, U18, 40]</td>\n",
       "      <td>[1000014]</td>\n",
       "      <td>0.014193</td>\n",
       "      <td>0.121120</td>\n",
       "      <td>12513</td>\n",
       "      <td>0</td>\n",
       "    </tr>\n",
       "    <tr>\n",
       "      <th>4</th>\n",
       "      <td>[1, U6, 1000014]</td>\n",
       "      <td>[40]</td>\n",
       "      <td>0.001537</td>\n",
       "      <td>0.013822</td>\n",
       "      <td>1355</td>\n",
       "      <td>0</td>\n",
       "    </tr>\n",
       "  </tbody>\n",
       "</table>\n",
       "</div>"
      ],
      "text/plain": [
       "          Antecedent Consequent   Support  Confidence  Count  Cluster\n",
       "0   [0, U6, 1000014]       [40]  0.001342    0.012067   1183        0\n",
       "1        [0, U6, 40]  [1000014]  0.001342    0.011451   1183        0\n",
       "2  [0, U18, 1000014]       [40]  0.014193    0.127642  12513        0\n",
       "3       [0, U18, 40]  [1000014]  0.014193    0.121120  12513        0\n",
       "4   [1, U6, 1000014]       [40]  0.001537    0.013822   1355        0"
      ]
     },
     "execution_count": 3,
     "metadata": {},
     "output_type": "execute_result"
    }
   ],
   "source": [
    "path='C:\\Khoa\\Git\\Association-Rule-Mining\\Rules.json'\n",
    "df=pd.read_json(path)\n",
    "df.head(5)"
   ]
  },
  {
   "cell_type": "code",
   "execution_count": 4,
   "metadata": {},
   "outputs": [
    {
     "data": {
      "text/plain": [
       "<bound method DataFrame.info of              Antecedent Consequent   Support  Confidence  Count  Cluster\n",
       "0      [0, U6, 1000014]       [40]  0.001342    0.012067   1183        0\n",
       "1           [0, U6, 40]  [1000014]  0.001342    0.011451   1183        0\n",
       "2     [0, U18, 1000014]       [40]  0.014193    0.127642  12513        0\n",
       "3          [0, U18, 40]  [1000014]  0.014193    0.121120  12513        0\n",
       "4      [1, U6, 1000014]       [40]  0.001537    0.013822   1355        0\n",
       "...                 ...        ...       ...         ...    ...      ...\n",
       "2807         [1, U6, 2]  [1000011]  0.000096    0.042394     85        0\n",
       "2808         [0, U6, 4]      [QUI]  0.000018    0.013008     16        0\n",
       "2809       [0, U6, QUI]        [4]  0.000018    0.018801     16        0\n",
       "2810         [1, U6, 4]      [QUI]  0.000017    0.012195     15        0\n",
       "2811       [1, U6, QUI]        [4]  0.000017    0.017626     15        0\n",
       "\n",
       "[2812 rows x 6 columns]>"
      ]
     },
     "execution_count": 4,
     "metadata": {},
     "output_type": "execute_result"
    }
   ],
   "source": [
    "df.info"
   ]
  },
  {
   "cell_type": "code",
   "execution_count": 5,
   "metadata": {},
   "outputs": [
    {
     "data": {
      "text/html": [
       "<div>\n",
       "<style scoped>\n",
       "    .dataframe tbody tr th:only-of-type {\n",
       "        vertical-align: middle;\n",
       "    }\n",
       "\n",
       "    .dataframe tbody tr th {\n",
       "        vertical-align: top;\n",
       "    }\n",
       "\n",
       "    .dataframe thead th {\n",
       "        text-align: right;\n",
       "    }\n",
       "</style>\n",
       "<table border=\"1\" class=\"dataframe\">\n",
       "  <thead>\n",
       "    <tr style=\"text-align: right;\">\n",
       "      <th></th>\n",
       "      <th>Antecedent</th>\n",
       "      <th>Consequent</th>\n",
       "      <th>Support</th>\n",
       "      <th>Confidence</th>\n",
       "      <th>Count</th>\n",
       "      <th>Cluster</th>\n",
       "      <th>Name</th>\n",
       "    </tr>\n",
       "  </thead>\n",
       "  <tbody>\n",
       "    <tr>\n",
       "      <th>0</th>\n",
       "      <td>[0, U6, 1000014]</td>\n",
       "      <td>[40]</td>\n",
       "      <td>0.134182</td>\n",
       "      <td>2.413498</td>\n",
       "      <td>1183</td>\n",
       "      <td>0</td>\n",
       "      <td>['0', 'U6', '1000014'] ['0', 'U6', '40'] ['0',...</td>\n",
       "    </tr>\n",
       "    <tr>\n",
       "      <th>1</th>\n",
       "      <td>[0, U6, 40]</td>\n",
       "      <td>[1000014]</td>\n",
       "      <td>0.134182</td>\n",
       "      <td>2.290173</td>\n",
       "      <td>1183</td>\n",
       "      <td>0</td>\n",
       "      <td>['0', 'U6', '1000014'] ['0', 'U6', '40'] ['0',...</td>\n",
       "    </tr>\n",
       "    <tr>\n",
       "      <th>2</th>\n",
       "      <td>[0, U18, 1000014]</td>\n",
       "      <td>[40]</td>\n",
       "      <td>1.419287</td>\n",
       "      <td>25.528398</td>\n",
       "      <td>12513</td>\n",
       "      <td>0</td>\n",
       "      <td>['0', 'U6', '1000014'] ['0', 'U6', '40'] ['0',...</td>\n",
       "    </tr>\n",
       "    <tr>\n",
       "      <th>3</th>\n",
       "      <td>[0, U18, 40]</td>\n",
       "      <td>[1000014]</td>\n",
       "      <td>1.419287</td>\n",
       "      <td>24.223946</td>\n",
       "      <td>12513</td>\n",
       "      <td>0</td>\n",
       "      <td>['0', 'U6', '1000014'] ['0', 'U6', '40'] ['0',...</td>\n",
       "    </tr>\n",
       "    <tr>\n",
       "      <th>4</th>\n",
       "      <td>[1, U6, 1000014]</td>\n",
       "      <td>[40]</td>\n",
       "      <td>0.153691</td>\n",
       "      <td>2.764403</td>\n",
       "      <td>1355</td>\n",
       "      <td>0</td>\n",
       "      <td>['0', 'U6', '1000014'] ['0', 'U6', '40'] ['0',...</td>\n",
       "    </tr>\n",
       "  </tbody>\n",
       "</table>\n",
       "</div>"
      ],
      "text/plain": [
       "          Antecedent Consequent   Support  Confidence  Count  Cluster  \\\n",
       "0   [0, U6, 1000014]       [40]  0.134182    2.413498   1183        0   \n",
       "1        [0, U6, 40]  [1000014]  0.134182    2.290173   1183        0   \n",
       "2  [0, U18, 1000014]       [40]  1.419287   25.528398  12513        0   \n",
       "3       [0, U18, 40]  [1000014]  1.419287   24.223946  12513        0   \n",
       "4   [1, U6, 1000014]       [40]  0.153691    2.764403   1355        0   \n",
       "\n",
       "                                                Name  \n",
       "0  ['0', 'U6', '1000014'] ['0', 'U6', '40'] ['0',...  \n",
       "1  ['0', 'U6', '1000014'] ['0', 'U6', '40'] ['0',...  \n",
       "2  ['0', 'U6', '1000014'] ['0', 'U6', '40'] ['0',...  \n",
       "3  ['0', 'U6', '1000014'] ['0', 'U6', '40'] ['0',...  \n",
       "4  ['0', 'U6', '1000014'] ['0', 'U6', '40'] ['0',...  "
      ]
     },
     "execution_count": 5,
     "metadata": {},
     "output_type": "execute_result"
    }
   ],
   "source": [
    "df['Name']=' '.join(map(str,df['Antecedent']))+' '.join(map(str,df['Consequent']))\n",
    "df['Support']=df['Support']*100\n",
    "df['Confidence']=df['Confidence']*200\n",
    "df.head(5)"
   ]
  },
  {
   "cell_type": "code",
   "execution_count": 6,
   "metadata": {},
   "outputs": [
    {
     "data": {
      "text/html": [
       "<div>\n",
       "<style scoped>\n",
       "    .dataframe tbody tr th:only-of-type {\n",
       "        vertical-align: middle;\n",
       "    }\n",
       "\n",
       "    .dataframe tbody tr th {\n",
       "        vertical-align: top;\n",
       "    }\n",
       "\n",
       "    .dataframe thead th {\n",
       "        text-align: right;\n",
       "    }\n",
       "</style>\n",
       "<table border=\"1\" class=\"dataframe\">\n",
       "  <thead>\n",
       "    <tr style=\"text-align: right;\">\n",
       "      <th></th>\n",
       "      <th>Antecedent</th>\n",
       "      <th>Consequent</th>\n",
       "      <th>Support</th>\n",
       "      <th>Confidence</th>\n",
       "      <th>Count</th>\n",
       "      <th>Cluster</th>\n",
       "      <th>Name</th>\n",
       "    </tr>\n",
       "  </thead>\n",
       "  <tbody>\n",
       "    <tr>\n",
       "      <th>1287</th>\n",
       "      <td>[0, U18, 18]</td>\n",
       "      <td>[36]</td>\n",
       "      <td>0.243523</td>\n",
       "      <td>124.970900</td>\n",
       "      <td>2147</td>\n",
       "      <td>0</td>\n",
       "      <td>['0', 'U6', '1000014'] ['0', 'U6', '40'] ['0',...</td>\n",
       "    </tr>\n",
       "    <tr>\n",
       "      <th>1343</th>\n",
       "      <td>[1, U6, 12]</td>\n",
       "      <td>[9]</td>\n",
       "      <td>1.379134</td>\n",
       "      <td>77.735508</td>\n",
       "      <td>12159</td>\n",
       "      <td>0</td>\n",
       "      <td>['0', 'U6', '1000014'] ['0', 'U6', '40'] ['0',...</td>\n",
       "    </tr>\n",
       "    <tr>\n",
       "      <th>1423</th>\n",
       "      <td>[1, U6, 12]</td>\n",
       "      <td>[11]</td>\n",
       "      <td>0.340502</td>\n",
       "      <td>76.905340</td>\n",
       "      <td>3002</td>\n",
       "      <td>0</td>\n",
       "      <td>['0', 'U6', '1000014'] ['0', 'U6', '40'] ['0',...</td>\n",
       "    </tr>\n",
       "    <tr>\n",
       "      <th>1419</th>\n",
       "      <td>[0, U6, 12]</td>\n",
       "      <td>[11]</td>\n",
       "      <td>0.322581</td>\n",
       "      <td>72.857690</td>\n",
       "      <td>2844</td>\n",
       "      <td>0</td>\n",
       "      <td>['0', 'U6', '1000014'] ['0', 'U6', '40'] ['0',...</td>\n",
       "    </tr>\n",
       "    <tr>\n",
       "      <th>1387</th>\n",
       "      <td>[1, U6, 12]</td>\n",
       "      <td>[10]</td>\n",
       "      <td>0.252938</td>\n",
       "      <td>70.591960</td>\n",
       "      <td>2230</td>\n",
       "      <td>0</td>\n",
       "      <td>['0', 'U6', '1000014'] ['0', 'U6', '40'] ['0',...</td>\n",
       "    </tr>\n",
       "    <tr>\n",
       "      <th>...</th>\n",
       "      <td>...</td>\n",
       "      <td>...</td>\n",
       "      <td>...</td>\n",
       "      <td>...</td>\n",
       "      <td>...</td>\n",
       "      <td>...</td>\n",
       "      <td>...</td>\n",
       "    </tr>\n",
       "    <tr>\n",
       "      <th>904</th>\n",
       "      <td>[1, U18, 100003]</td>\n",
       "      <td>[1000012]</td>\n",
       "      <td>0.001815</td>\n",
       "      <td>0.018428</td>\n",
       "      <td>16</td>\n",
       "      <td>0</td>\n",
       "      <td>['0', 'U6', '1000014'] ['0', 'U6', '40'] ['0',...</td>\n",
       "    </tr>\n",
       "    <tr>\n",
       "      <th>920</th>\n",
       "      <td>[0, U6, 4]</td>\n",
       "      <td>[1000012]</td>\n",
       "      <td>0.001815</td>\n",
       "      <td>0.018428</td>\n",
       "      <td>16</td>\n",
       "      <td>0</td>\n",
       "      <td>['0', 'U6', '1000014'] ['0', 'U6', '40'] ['0',...</td>\n",
       "    </tr>\n",
       "    <tr>\n",
       "      <th>908</th>\n",
       "      <td>[1, U6, 2]</td>\n",
       "      <td>[1000012]</td>\n",
       "      <td>0.001815</td>\n",
       "      <td>0.018428</td>\n",
       "      <td>16</td>\n",
       "      <td>0</td>\n",
       "      <td>['0', 'U6', '1000014'] ['0', 'U6', '40'] ['0',...</td>\n",
       "    </tr>\n",
       "    <tr>\n",
       "      <th>922</th>\n",
       "      <td>[0, U18, 4]</td>\n",
       "      <td>[1000012]</td>\n",
       "      <td>0.001588</td>\n",
       "      <td>0.016125</td>\n",
       "      <td>14</td>\n",
       "      <td>0</td>\n",
       "      <td>['0', 'U6', '1000014'] ['0', 'U6', '40'] ['0',...</td>\n",
       "    </tr>\n",
       "    <tr>\n",
       "      <th>856</th>\n",
       "      <td>[1, U6, 11]</td>\n",
       "      <td>[1000012]</td>\n",
       "      <td>0.001475</td>\n",
       "      <td>0.014973</td>\n",
       "      <td>13</td>\n",
       "      <td>0</td>\n",
       "      <td>['0', 'U6', '1000014'] ['0', 'U6', '40'] ['0',...</td>\n",
       "    </tr>\n",
       "  </tbody>\n",
       "</table>\n",
       "<p>2812 rows × 7 columns</p>\n",
       "</div>"
      ],
      "text/plain": [
       "            Antecedent Consequent   Support  Confidence  Count  Cluster  \\\n",
       "1287      [0, U18, 18]       [36]  0.243523  124.970900   2147        0   \n",
       "1343       [1, U6, 12]        [9]  1.379134   77.735508  12159        0   \n",
       "1423       [1, U6, 12]       [11]  0.340502   76.905340   3002        0   \n",
       "1419       [0, U6, 12]       [11]  0.322581   72.857690   2844        0   \n",
       "1387       [1, U6, 12]       [10]  0.252938   70.591960   2230        0   \n",
       "...                ...        ...       ...         ...    ...      ...   \n",
       "904   [1, U18, 100003]  [1000012]  0.001815    0.018428     16        0   \n",
       "920         [0, U6, 4]  [1000012]  0.001815    0.018428     16        0   \n",
       "908         [1, U6, 2]  [1000012]  0.001815    0.018428     16        0   \n",
       "922        [0, U18, 4]  [1000012]  0.001588    0.016125     14        0   \n",
       "856        [1, U6, 11]  [1000012]  0.001475    0.014973     13        0   \n",
       "\n",
       "                                                   Name  \n",
       "1287  ['0', 'U6', '1000014'] ['0', 'U6', '40'] ['0',...  \n",
       "1343  ['0', 'U6', '1000014'] ['0', 'U6', '40'] ['0',...  \n",
       "1423  ['0', 'U6', '1000014'] ['0', 'U6', '40'] ['0',...  \n",
       "1419  ['0', 'U6', '1000014'] ['0', 'U6', '40'] ['0',...  \n",
       "1387  ['0', 'U6', '1000014'] ['0', 'U6', '40'] ['0',...  \n",
       "...                                                 ...  \n",
       "904   ['0', 'U6', '1000014'] ['0', 'U6', '40'] ['0',...  \n",
       "920   ['0', 'U6', '1000014'] ['0', 'U6', '40'] ['0',...  \n",
       "908   ['0', 'U6', '1000014'] ['0', 'U6', '40'] ['0',...  \n",
       "922   ['0', 'U6', '1000014'] ['0', 'U6', '40'] ['0',...  \n",
       "856   ['0', 'U6', '1000014'] ['0', 'U6', '40'] ['0',...  \n",
       "\n",
       "[2812 rows x 7 columns]"
      ]
     },
     "execution_count": 6,
     "metadata": {},
     "output_type": "execute_result"
    }
   ],
   "source": [
    "df.sort_values(by=[\"Confidence\"],ascending=False)"
   ]
  },
  {
   "cell_type": "markdown",
   "metadata": {},
   "source": [
    "### 2.2. MỨC ĐỘ PHÂN BỐ VÀ THÓI QUEN SỬ DỤNG VACCINES CỦA BÁC SĨ"
   ]
  },
  {
   "cell_type": "markdown",
   "metadata": {},
   "source": [
    "Cơ sở tự tin (Confidence) dựa trên tần suất xuất hiện chung của một set vaccine. Được hiểu như, nếu vaccine A xuất hiện trong 10 chỉ định, trong đó có 5 chỉ định xuất hiện cùng vaccine B thì có nghĩa B thường đi với A trong 50% chỉ định, và lúc này khi chỉ định B theo A là 50%. Tuy nhiên số nảy khá là cảm tính, vì nếu xét theo thực tế nếu 50% này là hàng nghìn ca thì độ tự tin khi chỉ định B kèm A với chúng ta đó cũng tương đương là 100% rồi."
   ]
  },
  {
   "cell_type": "markdown",
   "metadata": {},
   "source": [
    "Bd01. Biểu đồ quan sát mức độ phân bố confidence"
   ]
  },
  {
   "cell_type": "code",
   "execution_count": 7,
   "metadata": {},
   "outputs": [
    {
     "data": {
      "text/plain": [
       "<Axes: xlabel='Confidence', ylabel='Count'>"
      ]
     },
     "execution_count": 7,
     "metadata": {},
     "output_type": "execute_result"
    },
    {
     "data": {
      "image/png": "[encoded data removed]",
      "text/plain": [
       "<Figure size 1000x1000 with 1 Axes>"
      ]
     },
     "metadata": {},
     "output_type": "display_data"
    }
   ],
   "source": [
    "plt.figure(figsize=(10, 10))\n",
    "sns.histplot(data=df, x=df['Confidence'])\n"
   ]
  },
  {
   "cell_type": "markdown",
   "metadata": {},
   "source": [
    "Qua biểu đồ phân bố mức độ confidence của A.I tập trung chủ yếu ở mức dưới 10%, điều này thể hiện mức độ chắc chắn khi một cặp vaccines kết hợp với nhau là tương đối là thấp. Hay nói chinh xác hơn trong 2811 quy luật vaccine mà A.I phát hiện ra thì chỉ có vài quy luật có độ chính xác cao. Điều này có thể đến từ việc số lượng luật lệ, hay phân bố chỉ định là rất đa dạng, nếu so với một tập chỉ 67 loại vaccine, tuy nhiên theo thói quen các bác sĩ chỉ tập trung chỉ định theo những cặp vaccines được định sẵn theo thói quen. "
   ]
  },
  {
   "cell_type": "markdown",
   "metadata": {},
   "source": [
    "Biểu đồ Thể hiện số lần xuất hiện của mỗi loại luật"
   ]
  },
  {
   "cell_type": "code",
   "execution_count": 8,
   "metadata": {},
   "outputs": [
    {
     "data": {
      "text/html": [
       "<div>\n",
       "<style scoped>\n",
       "    .dataframe tbody tr th:only-of-type {\n",
       "        vertical-align: middle;\n",
       "    }\n",
       "\n",
       "    .dataframe tbody tr th {\n",
       "        vertical-align: top;\n",
       "    }\n",
       "\n",
       "    .dataframe thead th {\n",
       "        text-align: right;\n",
       "    }\n",
       "</style>\n",
       "<table border=\"1\" class=\"dataframe\">\n",
       "  <thead>\n",
       "    <tr style=\"text-align: right;\">\n",
       "      <th></th>\n",
       "      <th>Antecedent</th>\n",
       "      <th>Consequent</th>\n",
       "      <th>Support</th>\n",
       "      <th>Confidence</th>\n",
       "      <th>Count</th>\n",
       "      <th>Cluster</th>\n",
       "      <th>Name</th>\n",
       "    </tr>\n",
       "  </thead>\n",
       "  <tbody>\n",
       "    <tr>\n",
       "      <th>1334</th>\n",
       "      <td>[1, U6, 8]</td>\n",
       "      <td>[12]</td>\n",
       "      <td>2.256477</td>\n",
       "      <td>45.214150</td>\n",
       "      <td>19894</td>\n",
       "      <td>0</td>\n",
       "      <td>['0', 'U6', '1000014'] ['0', 'U6', '40'] ['0',...</td>\n",
       "    </tr>\n",
       "    <tr>\n",
       "      <th>1335</th>\n",
       "      <td>[1, U6, 12]</td>\n",
       "      <td>[8]</td>\n",
       "      <td>2.256477</td>\n",
       "      <td>59.969550</td>\n",
       "      <td>19894</td>\n",
       "      <td>0</td>\n",
       "      <td>['0', 'U6', '1000014'] ['0', 'U6', '40'] ['0',...</td>\n",
       "    </tr>\n",
       "    <tr>\n",
       "      <th>1331</th>\n",
       "      <td>[0, U6, 12]</td>\n",
       "      <td>[8]</td>\n",
       "      <td>2.023275</td>\n",
       "      <td>53.771836</td>\n",
       "      <td>17838</td>\n",
       "      <td>0</td>\n",
       "      <td>['0', 'U6', '1000014'] ['0', 'U6', '40'] ['0',...</td>\n",
       "    </tr>\n",
       "    <tr>\n",
       "      <th>1330</th>\n",
       "      <td>[0, U6, 8]</td>\n",
       "      <td>[12]</td>\n",
       "      <td>2.023275</td>\n",
       "      <td>40.541368</td>\n",
       "      <td>17838</td>\n",
       "      <td>0</td>\n",
       "      <td>['0', 'U6', '1000014'] ['0', 'U6', '40'] ['0',...</td>\n",
       "    </tr>\n",
       "    <tr>\n",
       "      <th>843</th>\n",
       "      <td>[1, U6, 1000012]</td>\n",
       "      <td>[16]</td>\n",
       "      <td>1.660542</td>\n",
       "      <td>44.192222</td>\n",
       "      <td>14640</td>\n",
       "      <td>0</td>\n",
       "      <td>['0', 'U6', '1000014'] ['0', 'U6', '40'] ['0',...</td>\n",
       "    </tr>\n",
       "  </tbody>\n",
       "</table>\n",
       "</div>"
      ],
      "text/plain": [
       "            Antecedent Consequent   Support  Confidence  Count  Cluster  \\\n",
       "1334        [1, U6, 8]       [12]  2.256477   45.214150  19894        0   \n",
       "1335       [1, U6, 12]        [8]  2.256477   59.969550  19894        0   \n",
       "1331       [0, U6, 12]        [8]  2.023275   53.771836  17838        0   \n",
       "1330        [0, U6, 8]       [12]  2.023275   40.541368  17838        0   \n",
       "843   [1, U6, 1000012]       [16]  1.660542   44.192222  14640        0   \n",
       "\n",
       "                                                   Name  \n",
       "1334  ['0', 'U6', '1000014'] ['0', 'U6', '40'] ['0',...  \n",
       "1335  ['0', 'U6', '1000014'] ['0', 'U6', '40'] ['0',...  \n",
       "1331  ['0', 'U6', '1000014'] ['0', 'U6', '40'] ['0',...  \n",
       "1330  ['0', 'U6', '1000014'] ['0', 'U6', '40'] ['0',...  \n",
       "843   ['0', 'U6', '1000014'] ['0', 'U6', '40'] ['0',...  "
      ]
     },
     "execution_count": 8,
     "metadata": {},
     "output_type": "execute_result"
    }
   ],
   "source": [
    "sorted_df=df.sort_values(by='Count',ascending=False).head(200)\n",
    "sorted_df.head(5)"
   ]
  },
  {
   "cell_type": "code",
   "execution_count": 9,
   "metadata": {},
   "outputs": [
    {
     "data": {
      "text/html": [
       "<div>\n",
       "<style scoped>\n",
       "    .dataframe tbody tr th:only-of-type {\n",
       "        vertical-align: middle;\n",
       "    }\n",
       "\n",
       "    .dataframe tbody tr th {\n",
       "        vertical-align: top;\n",
       "    }\n",
       "\n",
       "    .dataframe thead th {\n",
       "        text-align: right;\n",
       "    }\n",
       "</style>\n",
       "<table border=\"1\" class=\"dataframe\">\n",
       "  <thead>\n",
       "    <tr style=\"text-align: right;\">\n",
       "      <th></th>\n",
       "      <th>Title</th>\n",
       "      <th>Value</th>\n",
       "    </tr>\n",
       "  </thead>\n",
       "  <tbody>\n",
       "    <tr>\n",
       "      <th>0</th>\n",
       "      <td>Top 200</td>\n",
       "      <td>55.79475</td>\n",
       "    </tr>\n",
       "    <tr>\n",
       "      <th>1</th>\n",
       "      <td>The rest</td>\n",
       "      <td>44.20525</td>\n",
       "    </tr>\n",
       "  </tbody>\n",
       "</table>\n",
       "</div>"
      ],
      "text/plain": [
       "      Title     Value\n",
       "0   Top 200  55.79475\n",
       "1  The rest  44.20525"
      ]
     },
     "execution_count": 9,
     "metadata": {},
     "output_type": "execute_result"
    }
   ],
   "source": [
    "dfsumten=sum(sorted_df['Count'])\n",
    "dfsum=sum(df['Count'])\n",
    "df_percent = pd.DataFrame(columns=['Title', 'Value'])\n",
    "new_row={'Title':'Top 200','Value':(dfsumten/dfsum)*100}\n",
    "df_percent.loc[len(df_percent)]=new_row\n",
    "new_row={'Title':'The rest','Value':((dfsum-dfsumten)/dfsum)*100}\n",
    "df_percent.loc[len(df_percent)]=new_row\n",
    "df_percent"
   ]
  },
  {
   "cell_type": "markdown",
   "metadata": {},
   "source": [
    "Bd02. Biểu đồ thể hiện tần suất sử dụng của các luật chỉ định"
   ]
  },
  {
   "cell_type": "code",
   "execution_count": 10,
   "metadata": {},
   "outputs": [
    {
     "data": {
      "text/plain": [
       "<Axes: xlabel='Title', ylabel='Value'>"
      ]
     },
     "execution_count": 10,
     "metadata": {},
     "output_type": "execute_result"
    },
    {
     "data": {
      "image/png": "[encoded data removed]",
      "text/plain": [
       "<Figure size 640x480 with 1 Axes>"
      ]
     },
     "metadata": {},
     "output_type": "display_data"
    }
   ],
   "source": [
    "sns.barplot(x='Title',y='Value',data=df_percent)"
   ]
  },
  {
   "cell_type": "markdown",
   "metadata": {},
   "source": []
  },
  {
   "cell_type": "markdown",
   "metadata": {},
   "source": [
    "Biểu đồ trên cho thấy sự chênh lệch trong việc sử dụng các cặp vaccine. Cụ thể hơn, mặc dù có tới 2811 các cặp và set chỉ định nhưng các bác sĩ của VNVC thường chỉ sử dụng khoảng 7,66% trong số đó (chiếm tới hơn 55%). Qua đó, có thể thấy được mặc dù đa phần các chỉ định của bác sĩ là theo các set quen thuộc tuy nhiên cũng có gần một nửa là các kết hợp vaccine ngẫu nhiên, với tần suất xuất hiện không cao, đây cũng có thể là các cặp vaccine khiến các bác sĩ mới cảm thấy ngần ngại khi chỉ định, hoặc vì một lí do nào đó mà bị hạn chế chỉ định. <br> Đây cũng là cơ sở để tạo ra hệ thống trí tuệ nhân tạo, để phát hiện ra các trường hợp chỉ định \"bất thường\" hay được hiểu là \"xuất hiện rất thấp, hoặc chưa từng xuất hiện\" dù theo các danh mục được cài đặt thì không hề cấm, để nhắc nhở các bác sĩ, cũng như kêu gọi hỗ trợ kịp thời thông qua việc hội chẩn từ các bác sĩ khác. Giúp nâng cao chất lượng phục vụ, và mang lại sự an toàn hơn cho khách hàng tiêm chủng của VNVC"
   ]
  },
  {
   "cell_type": "markdown",
   "metadata": {},
   "source": [
    "### 2.3. ĐƠN GIẢN HÓA CÁC CHỈ SỐ HỖ TRỢ"
   ]
  },
  {
   "cell_type": "markdown",
   "metadata": {},
   "source": [
    "Bd3. Biểu diễn phân bố dữ liệu"
   ]
  },
  {
   "cell_type": "code",
   "execution_count": 11,
   "metadata": {},
   "outputs": [
    {
     "data": {
      "text/plain": [
       "<Axes: xlabel='Support', ylabel='Confidence'>"
      ]
     },
     "execution_count": 11,
     "metadata": {},
     "output_type": "execute_result"
    },
    {
     "data": {
      "image/png": "[encoded data removed]",
      "text/plain": [
       "<Figure size 640x480 with 1 Axes>"
      ]
     },
     "metadata": {},
     "output_type": "display_data"
    }
   ],
   "source": [
    "sns.scatterplot(x=df['Support'],y=df['Confidence'],data=df)"
   ]
  },
  {
   "cell_type": "code",
   "execution_count": 12,
   "metadata": {},
   "outputs": [],
   "source": [
    "from sklearn.cluster import KMeans\n",
    "\n",
    "wcss = []\n",
    "for i in range(1,11):\n",
    "    kmeans = KMeans(n_clusters=i, init='k-means++', max_iter=300, n_init=10, random_state=0)\n",
    "    kmeans.fit(df.loc[:,['Support','Confidence']])\n",
    "    wcss.append(kmeans.inertia_)\n",
    "\n",
    "sns.lineplot(x=range(1,11),y=wcss,markers='o',color='red')\n",
    "plt.title('Elbow Method')\n",
    "plt.xlabel('Number of clusters')\n",
    "plt.ylabel('WCSS')\n"
   ]
  },
  {
   "cell_type": "code",
   "execution_count": 13,
   "metadata": {},
   "outputs": [
    {
     "data": {
      "text/plain": [
       "Text(0, 0.5, 'WCSS')"
      ]
     },
     "execution_count": 13,
     "metadata": {},
     "output_type": "execute_result"
    },
    {
     "data": {
      "image/png": "[encoded data removed]",
      "text/plain": [
       "<Figure size 640x480 with 1 Axes>"
      ]
     },
     "metadata": {},
     "output_type": "display_data"
    }
   ],
   "source": []
  },
  {
   "cell_type": "code",
   "execution_count": 14,
   "metadata": {},
   "outputs": [
    {
     "data": {
      "text/html": [
       "<div>\n",
       "<style scoped>\n",
       "    .dataframe tbody tr th:only-of-type {\n",
       "        vertical-align: middle;\n",
       "    }\n",
       "\n",
       "    .dataframe tbody tr th {\n",
       "        vertical-align: top;\n",
       "    }\n",
       "\n",
       "    .dataframe thead th {\n",
       "        text-align: right;\n",
       "    }\n",
       "</style>\n",
       "<table border=\"1\" class=\"dataframe\">\n",
       "  <thead>\n",
       "    <tr style=\"text-align: right;\">\n",
       "      <th></th>\n",
       "      <th>Antecedent</th>\n",
       "      <th>Consequent</th>\n",
       "      <th>Support</th>\n",
       "      <th>Confidence</th>\n",
       "      <th>Count</th>\n",
       "      <th>Cluster</th>\n",
       "      <th>Name</th>\n",
       "      <th>cluster</th>\n",
       "    </tr>\n",
       "  </thead>\n",
       "  <tbody>\n",
       "    <tr>\n",
       "      <th>0</th>\n",
       "      <td>[0, U6, 1000014]</td>\n",
       "      <td>[40]</td>\n",
       "      <td>0.134182</td>\n",
       "      <td>2.413498</td>\n",
       "      <td>1183</td>\n",
       "      <td>0</td>\n",
       "      <td>['0', 'U6', '1000014'] ['0', 'U6', '40'] ['0',...</td>\n",
       "      <td>0</td>\n",
       "    </tr>\n",
       "    <tr>\n",
       "      <th>1</th>\n",
       "      <td>[0, U6, 40]</td>\n",
       "      <td>[1000014]</td>\n",
       "      <td>0.134182</td>\n",
       "      <td>2.290173</td>\n",
       "      <td>1183</td>\n",
       "      <td>0</td>\n",
       "      <td>['0', 'U6', '1000014'] ['0', 'U6', '40'] ['0',...</td>\n",
       "      <td>0</td>\n",
       "    </tr>\n",
       "    <tr>\n",
       "      <th>2</th>\n",
       "      <td>[0, U18, 1000014]</td>\n",
       "      <td>[40]</td>\n",
       "      <td>1.419287</td>\n",
       "      <td>25.528398</td>\n",
       "      <td>12513</td>\n",
       "      <td>0</td>\n",
       "      <td>['0', 'U6', '1000014'] ['0', 'U6', '40'] ['0',...</td>\n",
       "      <td>3</td>\n",
       "    </tr>\n",
       "    <tr>\n",
       "      <th>3</th>\n",
       "      <td>[0, U18, 40]</td>\n",
       "      <td>[1000014]</td>\n",
       "      <td>1.419287</td>\n",
       "      <td>24.223946</td>\n",
       "      <td>12513</td>\n",
       "      <td>0</td>\n",
       "      <td>['0', 'U6', '1000014'] ['0', 'U6', '40'] ['0',...</td>\n",
       "      <td>3</td>\n",
       "    </tr>\n",
       "    <tr>\n",
       "      <th>4</th>\n",
       "      <td>[1, U6, 1000014]</td>\n",
       "      <td>[40]</td>\n",
       "      <td>0.153691</td>\n",
       "      <td>2.764403</td>\n",
       "      <td>1355</td>\n",
       "      <td>0</td>\n",
       "      <td>['0', 'U6', '1000014'] ['0', 'U6', '40'] ['0',...</td>\n",
       "      <td>0</td>\n",
       "    </tr>\n",
       "  </tbody>\n",
       "</table>\n",
       "</div>"
      ],
      "text/plain": [
       "          Antecedent Consequent   Support  Confidence  Count  Cluster  \\\n",
       "0   [0, U6, 1000014]       [40]  0.134182    2.413498   1183        0   \n",
       "1        [0, U6, 40]  [1000014]  0.134182    2.290173   1183        0   \n",
       "2  [0, U18, 1000014]       [40]  1.419287   25.528398  12513        0   \n",
       "3       [0, U18, 40]  [1000014]  1.419287   24.223946  12513        0   \n",
       "4   [1, U6, 1000014]       [40]  0.153691    2.764403   1355        0   \n",
       "\n",
       "                                                Name  cluster  \n",
       "0  ['0', 'U6', '1000014'] ['0', 'U6', '40'] ['0',...        0  \n",
       "1  ['0', 'U6', '1000014'] ['0', 'U6', '40'] ['0',...        0  \n",
       "2  ['0', 'U6', '1000014'] ['0', 'U6', '40'] ['0',...        3  \n",
       "3  ['0', 'U6', '1000014'] ['0', 'U6', '40'] ['0',...        3  \n",
       "4  ['0', 'U6', '1000014'] ['0', 'U6', '40'] ['0',...        0  "
      ]
     },
     "execution_count": 14,
     "metadata": {},
     "output_type": "execute_result"
    }
   ],
   "source": [
    "kmeans = KMeans(n_clusters=4, init='k-means++', max_iter=300, n_init=10, random_state=0)\n",
    "pred_y = kmeans.fit_predict(df.loc[:,['Support','Confidence']])\n",
    "\n",
    "df['cluster'] = pred_y\n",
    "\n",
    "df.head(5)"
   ]
  },
  {
   "cell_type": "code",
   "execution_count": 15,
   "metadata": {},
   "outputs": [
    {
     "data": {
      "text/plain": [
       "<Axes: xlabel='Support', ylabel='Confidence'>"
      ]
     },
     "execution_count": 15,
     "metadata": {},
     "output_type": "execute_result"
    },
    {
     "data": {
      "image/png": "[encoded data removed]",
      "text/plain": [
       "<Figure size 640x480 with 1 Axes>"
      ]
     },
     "metadata": {},
     "output_type": "display_data"
    }
   ],
   "source": [
    "sns.scatterplot(data=df, x='Support', y='Confidence', hue='cluster', palette='deep')"
   ]
  },
  {
   "cell_type": "markdown",
   "metadata": {},
   "source": [
    "Để dễ dàng hơn trong việc đưa ra các chỉ báo hỗ trợ cho bác sĩ khi chỉ định. A.I sẽ đưa ra các mức cảnh báo dựa trên tổng số lượng chỉ định cặp vaccine và tỷ lệ xuất hiện theo cặp của các loại vaccine. Như trên, thuật toán máy học đã tự động chia dữ liệu ra thành 4 cụm dữ liệu, trong đó màu cam là nguy hiểm nhất và xanh lá cây là an toàn nhất (với support và confidence cao nhất so với tập dữ liệu)"
   ]
  },
  {
   "cell_type": "markdown",
   "metadata": {},
   "source": [
    "Biểu đồ so sánh tỷ lệ phân loại"
   ]
  },
  {
   "cell_type": "code",
   "execution_count": 16,
   "metadata": {},
   "outputs": [
    {
     "data": {
      "text/plain": [
       "<Axes: xlabel='cluster', ylabel='count'>"
      ]
     },
     "execution_count": 16,
     "metadata": {},
     "output_type": "execute_result"
    },
    {
     "data": {
      "image/png": "[encoded data removed]",
      "text/plain": [
       "<Figure size 640x480 with 1 Axes>"
      ]
     },
     "metadata": {},
     "output_type": "display_data"
    }
   ],
   "source": [
    "sns.countplot(data=df, x='cluster')"
   ]
  },
  {
   "cell_type": "markdown",
   "metadata": {},
   "source": [
    "Tỷ lệ phân bố phù hợp với phân tích đã nêu từ đầu, số lượng các cặp dữ liệu an toàn chiếm rất ít (2,3,4) còn lại đa phần là không an toàn (0,1). Từ đó ta có thể đưa ra các chỉ báo như sau"
   ]
  },
  {
   "cell_type": "markdown",
   "metadata": {},
   "source": [
    "Danh sách màu sắc phân loại cảnh báo: <br>    1. Số lượng chỉ định lớn, tỷ lệ xuất hiện cùng nhau cao: Màu Xanh lá cây <br> 2. Số lượng chỉ định lớn, tỷ lệ xuất hiện cùng nhau thấp: Màu Vàng <br>   3. Số lượng chỉ định nhỏ tỷ lệ xuất hiện cùng nhau cao: Màu Cam <br>   4. Số lượng chỉ định nhỏ, tỷ lệ xuất hiện cùng nhau nhỏ: Màu Đỏ <br> 5. Chưa từng xuất hiện: Màu Đen"
   ]
  },
  {
   "cell_type": "markdown",
   "metadata": {},
   "source": []
  },
  {
   "cell_type": "markdown",
   "metadata": {},
   "source": [
    "Lưu lại kết quả:"
   ]
  },
  {
   "cell_type": "code",
   "execution_count": 17,
   "metadata": {},
   "outputs": [],
   "source": [
    "path2='C:\\Khoa\\Git\\Association-Rule-Mining\\RulesClusterIncluded.json'\n",
    "df.drop(df.columns[-1], axis=1).to_json(path2, orient='records')"
   ]
  },
  {
   "cell_type": "code",
   "execution_count": 18,
   "metadata": {},
   "outputs": [
    {
     "data": {
      "text/html": [
       "<div>\n",
       "<style scoped>\n",
       "    .dataframe tbody tr th:only-of-type {\n",
       "        vertical-align: middle;\n",
       "    }\n",
       "\n",
       "    .dataframe tbody tr th {\n",
       "        vertical-align: top;\n",
       "    }\n",
       "\n",
       "    .dataframe thead th {\n",
       "        text-align: right;\n",
       "    }\n",
       "</style>\n",
       "<table border=\"1\" class=\"dataframe\">\n",
       "  <thead>\n",
       "    <tr style=\"text-align: right;\">\n",
       "      <th></th>\n",
       "      <th>Antecedent</th>\n",
       "      <th>Consequent</th>\n",
       "      <th>Support</th>\n",
       "      <th>Confidence</th>\n",
       "      <th>Count</th>\n",
       "      <th>Cluster</th>\n",
       "      <th>Name</th>\n",
       "      <th>cluster</th>\n",
       "    </tr>\n",
       "  </thead>\n",
       "  <tbody>\n",
       "    <tr>\n",
       "      <th>0</th>\n",
       "      <td>[0, U6, 1000014]</td>\n",
       "      <td>[40]</td>\n",
       "      <td>0.134182</td>\n",
       "      <td>2.413498</td>\n",
       "      <td>1183</td>\n",
       "      <td>0</td>\n",
       "      <td>['0', 'U6', '1000014'] ['0', 'U6', '40'] ['0',...</td>\n",
       "      <td>0</td>\n",
       "    </tr>\n",
       "    <tr>\n",
       "      <th>1</th>\n",
       "      <td>[0, U6, 40]</td>\n",
       "      <td>[1000014]</td>\n",
       "      <td>0.134182</td>\n",
       "      <td>2.290173</td>\n",
       "      <td>1183</td>\n",
       "      <td>0</td>\n",
       "      <td>['0', 'U6', '1000014'] ['0', 'U6', '40'] ['0',...</td>\n",
       "      <td>0</td>\n",
       "    </tr>\n",
       "    <tr>\n",
       "      <th>2</th>\n",
       "      <td>[0, U18, 1000014]</td>\n",
       "      <td>[40]</td>\n",
       "      <td>1.419287</td>\n",
       "      <td>25.528398</td>\n",
       "      <td>12513</td>\n",
       "      <td>0</td>\n",
       "      <td>['0', 'U6', '1000014'] ['0', 'U6', '40'] ['0',...</td>\n",
       "      <td>3</td>\n",
       "    </tr>\n",
       "    <tr>\n",
       "      <th>3</th>\n",
       "      <td>[0, U18, 40]</td>\n",
       "      <td>[1000014]</td>\n",
       "      <td>1.419287</td>\n",
       "      <td>24.223946</td>\n",
       "      <td>12513</td>\n",
       "      <td>0</td>\n",
       "      <td>['0', 'U6', '1000014'] ['0', 'U6', '40'] ['0',...</td>\n",
       "      <td>3</td>\n",
       "    </tr>\n",
       "    <tr>\n",
       "      <th>4</th>\n",
       "      <td>[1, U6, 1000014]</td>\n",
       "      <td>[40]</td>\n",
       "      <td>0.153691</td>\n",
       "      <td>2.764403</td>\n",
       "      <td>1355</td>\n",
       "      <td>0</td>\n",
       "      <td>['0', 'U6', '1000014'] ['0', 'U6', '40'] ['0',...</td>\n",
       "      <td>0</td>\n",
       "    </tr>\n",
       "  </tbody>\n",
       "</table>\n",
       "</div>"
      ],
      "text/plain": [
       "          Antecedent Consequent   Support  Confidence  Count  Cluster  \\\n",
       "0   [0, U6, 1000014]       [40]  0.134182    2.413498   1183        0   \n",
       "1        [0, U6, 40]  [1000014]  0.134182    2.290173   1183        0   \n",
       "2  [0, U18, 1000014]       [40]  1.419287   25.528398  12513        0   \n",
       "3       [0, U18, 40]  [1000014]  1.419287   24.223946  12513        0   \n",
       "4   [1, U6, 1000014]       [40]  0.153691    2.764403   1355        0   \n",
       "\n",
       "                                                Name  cluster  \n",
       "0  ['0', 'U6', '1000014'] ['0', 'U6', '40'] ['0',...        0  \n",
       "1  ['0', 'U6', '1000014'] ['0', 'U6', '40'] ['0',...        0  \n",
       "2  ['0', 'U6', '1000014'] ['0', 'U6', '40'] ['0',...        3  \n",
       "3  ['0', 'U6', '1000014'] ['0', 'U6', '40'] ['0',...        3  \n",
       "4  ['0', 'U6', '1000014'] ['0', 'U6', '40'] ['0',...        0  "
      ]
     },
     "execution_count": 18,
     "metadata": {},
     "output_type": "execute_result"
    }
   ],
   "source": [
    "df.head(5)"
   ]
  },
  {
   "cell_type": "code",
   "execution_count": 19,
   "metadata": {},
   "outputs": [
    {
     "data": {
      "text/html": [
       "<div>\n",
       "<style scoped>\n",
       "    .dataframe tbody tr th:only-of-type {\n",
       "        vertical-align: middle;\n",
       "    }\n",
       "\n",
       "    .dataframe tbody tr th {\n",
       "        vertical-align: top;\n",
       "    }\n",
       "\n",
       "    .dataframe thead th {\n",
       "        text-align: right;\n",
       "    }\n",
       "</style>\n",
       "<table border=\"1\" class=\"dataframe\">\n",
       "  <thead>\n",
       "    <tr style=\"text-align: right;\">\n",
       "      <th></th>\n",
       "      <th>Antecedent</th>\n",
       "      <th>Consequent</th>\n",
       "      <th>Support</th>\n",
       "      <th>Confidence</th>\n",
       "      <th>Count</th>\n",
       "      <th>Cluster</th>\n",
       "      <th>Name</th>\n",
       "    </tr>\n",
       "  </thead>\n",
       "  <tbody>\n",
       "    <tr>\n",
       "      <th>0</th>\n",
       "      <td>[0, U6, 1000014]</td>\n",
       "      <td>[40]</td>\n",
       "      <td>0.134182</td>\n",
       "      <td>2.413498</td>\n",
       "      <td>1183</td>\n",
       "      <td>0</td>\n",
       "      <td>['0', 'U6', '1000014'] ['0', 'U6', '40'] ['0',...</td>\n",
       "    </tr>\n",
       "    <tr>\n",
       "      <th>1</th>\n",
       "      <td>[0, U6, 40]</td>\n",
       "      <td>[1000014]</td>\n",
       "      <td>0.134182</td>\n",
       "      <td>2.290173</td>\n",
       "      <td>1183</td>\n",
       "      <td>0</td>\n",
       "      <td>['0', 'U6', '1000014'] ['0', 'U6', '40'] ['0',...</td>\n",
       "    </tr>\n",
       "    <tr>\n",
       "      <th>2</th>\n",
       "      <td>[0, U18, 1000014]</td>\n",
       "      <td>[40]</td>\n",
       "      <td>1.419287</td>\n",
       "      <td>25.528398</td>\n",
       "      <td>12513</td>\n",
       "      <td>0</td>\n",
       "      <td>['0', 'U6', '1000014'] ['0', 'U6', '40'] ['0',...</td>\n",
       "    </tr>\n",
       "    <tr>\n",
       "      <th>3</th>\n",
       "      <td>[0, U18, 40]</td>\n",
       "      <td>[1000014]</td>\n",
       "      <td>1.419287</td>\n",
       "      <td>24.223946</td>\n",
       "      <td>12513</td>\n",
       "      <td>0</td>\n",
       "      <td>['0', 'U6', '1000014'] ['0', 'U6', '40'] ['0',...</td>\n",
       "    </tr>\n",
       "    <tr>\n",
       "      <th>4</th>\n",
       "      <td>[1, U6, 1000014]</td>\n",
       "      <td>[40]</td>\n",
       "      <td>0.153691</td>\n",
       "      <td>2.764403</td>\n",
       "      <td>1355</td>\n",
       "      <td>0</td>\n",
       "      <td>['0', 'U6', '1000014'] ['0', 'U6', '40'] ['0',...</td>\n",
       "    </tr>\n",
       "  </tbody>\n",
       "</table>\n",
       "</div>"
      ],
      "text/plain": [
       "          Antecedent Consequent   Support  Confidence  Count  Cluster  \\\n",
       "0   [0, U6, 1000014]       [40]  0.134182    2.413498   1183        0   \n",
       "1        [0, U6, 40]  [1000014]  0.134182    2.290173   1183        0   \n",
       "2  [0, U18, 1000014]       [40]  1.419287   25.528398  12513        0   \n",
       "3       [0, U18, 40]  [1000014]  1.419287   24.223946  12513        0   \n",
       "4   [1, U6, 1000014]       [40]  0.153691    2.764403   1355        0   \n",
       "\n",
       "                                                Name  \n",
       "0  ['0', 'U6', '1000014'] ['0', 'U6', '40'] ['0',...  \n",
       "1  ['0', 'U6', '1000014'] ['0', 'U6', '40'] ['0',...  \n",
       "2  ['0', 'U6', '1000014'] ['0', 'U6', '40'] ['0',...  \n",
       "3  ['0', 'U6', '1000014'] ['0', 'U6', '40'] ['0',...  \n",
       "4  ['0', 'U6', '1000014'] ['0', 'U6', '40'] ['0',...  "
      ]
     },
     "execution_count": 19,
     "metadata": {},
     "output_type": "execute_result"
    }
   ],
   "source": [
    "df2=pd.read_json(path2)\n",
    "df2.head(5)"
   ]
  },
  {
   "cell_type": "code",
   "execution_count": 3,
   "metadata": {},
   "outputs": [
    {
     "data": {
      "text/html": [
       "<div>\n",
       "<style scoped>\n",
       "    .dataframe tbody tr th:only-of-type {\n",
       "        vertical-align: middle;\n",
       "    }\n",
       "\n",
       "    .dataframe tbody tr th {\n",
       "        vertical-align: top;\n",
       "    }\n",
       "\n",
       "    .dataframe thead th {\n",
       "        text-align: right;\n",
       "    }\n",
       "</style>\n",
       "<table border=\"1\" class=\"dataframe\">\n",
       "  <thead>\n",
       "    <tr style=\"text-align: right;\">\n",
       "      <th></th>\n",
       "      <th>Antecedent</th>\n",
       "      <th>Consequent</th>\n",
       "      <th>Support</th>\n",
       "      <th>Confidence</th>\n",
       "      <th>Count</th>\n",
       "      <th>Cluster</th>\n",
       "    </tr>\n",
       "  </thead>\n",
       "  <tbody>\n",
       "    <tr>\n",
       "      <th>0</th>\n",
       "      <td>[0, U6, 1000014]</td>\n",
       "      <td>[40]</td>\n",
       "      <td>0.001342</td>\n",
       "      <td>0.012067</td>\n",
       "      <td>1183</td>\n",
       "      <td>1</td>\n",
       "    </tr>\n",
       "    <tr>\n",
       "      <th>1</th>\n",
       "      <td>[0, U6, 40]</td>\n",
       "      <td>[1000014]</td>\n",
       "      <td>0.001342</td>\n",
       "      <td>0.011451</td>\n",
       "      <td>1183</td>\n",
       "      <td>1</td>\n",
       "    </tr>\n",
       "    <tr>\n",
       "      <th>2</th>\n",
       "      <td>[0, U18, 1000014]</td>\n",
       "      <td>[40]</td>\n",
       "      <td>0.002599</td>\n",
       "      <td>0.023370</td>\n",
       "      <td>2291</td>\n",
       "      <td>3</td>\n",
       "    </tr>\n",
       "    <tr>\n",
       "      <th>3</th>\n",
       "      <td>[0, U18, 40]</td>\n",
       "      <td>[1000014]</td>\n",
       "      <td>0.002599</td>\n",
       "      <td>0.022176</td>\n",
       "      <td>2291</td>\n",
       "      <td>3</td>\n",
       "    </tr>\n",
       "    <tr>\n",
       "      <th>4</th>\n",
       "      <td>[0, U47, 1000014]</td>\n",
       "      <td>[40]</td>\n",
       "      <td>0.006283</td>\n",
       "      <td>0.056502</td>\n",
       "      <td>5539</td>\n",
       "      <td>3</td>\n",
       "    </tr>\n",
       "  </tbody>\n",
       "</table>\n",
       "</div>"
      ],
      "text/plain": [
       "          Antecedent Consequent   Support  Confidence  Count  Cluster\n",
       "0   [0, U6, 1000014]       [40]  0.001342    0.012067   1183        1\n",
       "1        [0, U6, 40]  [1000014]  0.001342    0.011451   1183        1\n",
       "2  [0, U18, 1000014]       [40]  0.002599    0.023370   2291        3\n",
       "3       [0, U18, 40]  [1000014]  0.002599    0.022176   2291        3\n",
       "4  [0, U47, 1000014]       [40]  0.006283    0.056502   5539        3"
      ]
     },
     "execution_count": 3,
     "metadata": {},
     "output_type": "execute_result"
    }
   ],
   "source": [
    "path='C:\\Khoa\\Git\\Association-Rule-Mining\\RulesClusterIncluded.json'\n",
    "df=pd.read_json(path)\n",
    "df.head(5)"
   ]
  },
  {
   "cell_type": "code",
   "execution_count": 7,
   "metadata": {},
   "outputs": [
    {
     "data": {
      "text/html": [
       "<div>\n",
       "<style scoped>\n",
       "    .dataframe tbody tr th:only-of-type {\n",
       "        vertical-align: middle;\n",
       "    }\n",
       "\n",
       "    .dataframe tbody tr th {\n",
       "        vertical-align: top;\n",
       "    }\n",
       "\n",
       "    .dataframe thead th {\n",
       "        text-align: right;\n",
       "    }\n",
       "</style>\n",
       "<table border=\"1\" class=\"dataframe\">\n",
       "  <thead>\n",
       "    <tr style=\"text-align: right;\">\n",
       "      <th></th>\n",
       "      <th>Antecedent</th>\n",
       "      <th>Consequent</th>\n",
       "      <th>Support</th>\n",
       "      <th>Confidence</th>\n",
       "      <th>Count</th>\n",
       "      <th>Cluster</th>\n",
       "    </tr>\n",
       "  </thead>\n",
       "  <tbody>\n",
       "    <tr>\n",
       "      <th>298</th>\n",
       "      <td>[0, LC, 11]</td>\n",
       "      <td>[40]</td>\n",
       "      <td>0.000025</td>\n",
       "      <td>0.000224</td>\n",
       "      <td>22</td>\n",
       "      <td>1</td>\n",
       "    </tr>\n",
       "    <tr>\n",
       "      <th>299</th>\n",
       "      <td>[0, LC, 40]</td>\n",
       "      <td>[11]</td>\n",
       "      <td>0.000025</td>\n",
       "      <td>0.002818</td>\n",
       "      <td>22</td>\n",
       "      <td>1</td>\n",
       "    </tr>\n",
       "    <tr>\n",
       "      <th>300</th>\n",
       "      <td>[0, U6, 11]</td>\n",
       "      <td>[40]</td>\n",
       "      <td>0.000361</td>\n",
       "      <td>0.003244</td>\n",
       "      <td>318</td>\n",
       "      <td>1</td>\n",
       "    </tr>\n",
       "    <tr>\n",
       "      <th>301</th>\n",
       "      <td>[0, U6, 40]</td>\n",
       "      <td>[11]</td>\n",
       "      <td>0.000361</td>\n",
       "      <td>0.040733</td>\n",
       "      <td>318</td>\n",
       "      <td>3</td>\n",
       "    </tr>\n",
       "    <tr>\n",
       "      <th>302</th>\n",
       "      <td>[1, LC, 11]</td>\n",
       "      <td>[40]</td>\n",
       "      <td>0.000017</td>\n",
       "      <td>0.000153</td>\n",
       "      <td>15</td>\n",
       "      <td>1</td>\n",
       "    </tr>\n",
       "    <tr>\n",
       "      <th>303</th>\n",
       "      <td>[1, LC, 40]</td>\n",
       "      <td>[11]</td>\n",
       "      <td>0.000017</td>\n",
       "      <td>0.001921</td>\n",
       "      <td>15</td>\n",
       "      <td>1</td>\n",
       "    </tr>\n",
       "    <tr>\n",
       "      <th>304</th>\n",
       "      <td>[1, U6, 11]</td>\n",
       "      <td>[40]</td>\n",
       "      <td>0.000352</td>\n",
       "      <td>0.003162</td>\n",
       "      <td>310</td>\n",
       "      <td>1</td>\n",
       "    </tr>\n",
       "    <tr>\n",
       "      <th>305</th>\n",
       "      <td>[1, U6, 40]</td>\n",
       "      <td>[11]</td>\n",
       "      <td>0.000352</td>\n",
       "      <td>0.039708</td>\n",
       "      <td>310</td>\n",
       "      <td>3</td>\n",
       "    </tr>\n",
       "  </tbody>\n",
       "</table>\n",
       "</div>"
      ],
      "text/plain": [
       "      Antecedent Consequent   Support  Confidence  Count  Cluster\n",
       "298  [0, LC, 11]       [40]  0.000025    0.000224     22        1\n",
       "299  [0, LC, 40]       [11]  0.000025    0.002818     22        1\n",
       "300  [0, U6, 11]       [40]  0.000361    0.003244    318        1\n",
       "301  [0, U6, 40]       [11]  0.000361    0.040733    318        3\n",
       "302  [1, LC, 11]       [40]  0.000017    0.000153     15        1\n",
       "303  [1, LC, 40]       [11]  0.000017    0.001921     15        1\n",
       "304  [1, U6, 11]       [40]  0.000352    0.003162    310        1\n",
       "305  [1, U6, 40]       [11]  0.000352    0.039708    310        3"
      ]
     },
     "execution_count": 7,
     "metadata": {},
     "output_type": "execute_result"
    }
   ],
   "source": [
    "df[(df['Antecedent'].apply(lambda x: \"40\" in x)) & (df['Consequent'].apply(lambda x: \"11\" in x)) | (df['Antecedent'].apply(lambda x: \"11\" in x)) & (df['Consequent'].apply(lambda x: \"40\" in x))]"
   ]
  },
  {
   "cell_type": "code",
   "execution_count": 4,
   "metadata": {},
   "outputs": [
    {
     "data": {
      "text/plain": [
       "<Axes: xlabel='Support', ylabel='Confidence'>"
      ]
     },
     "execution_count": 4,
     "metadata": {},
     "output_type": "execute_result"
    },
    {
     "data": {
      "image/png": "[encoded data removed]",
      "text/plain": [
       "<Figure size 640x480 with 1 Axes>"
      ]
     },
     "metadata": {},
     "output_type": "display_data"
    }
   ],
   "source": [
    "sns.scatterplot(data=df, x='Support', y='Confidence', hue='Cluster', palette='deep')"
   ]
  }
 ],
 "metadata": {
  "kernelspec": {
   "display_name": "Python 3",
   "language": "python",
   "name": "python3"
  },
  "language_info": {
   "codemirror_mode": {
    "name": "ipython",
    "version": 3
   },
   "file_extension": ".py",
   "mimetype": "text/x-python",
   "name": "python",
   "nbconvert_exporter": "python",
   "pygments_lexer": "ipython3",
   "version": "3.11.4"
  },
  "orig_nbformat": 4
 },
 "nbformat": 4,
 "nbformat_minor": 2
}
